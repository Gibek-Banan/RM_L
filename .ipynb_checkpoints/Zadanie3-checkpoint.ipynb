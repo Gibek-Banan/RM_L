{
 "cells": [
  {
   "cell_type": "code",
   "execution_count": 1,
   "metadata": {},
   "outputs": [],
   "source": [
    "#!/usr/bin/env python\n",
    "#jednoczesny publisher i subscriber\n",
    "#import bibliotek i wiadomości rosowych\n",
    "import rospy\n",
    "from std_msgs.msg import Int32"
   ]
  },
  {
   "cell_type": "code",
   "execution_count": 2,
   "metadata": {},
   "outputs": [],
   "source": [
    "oldInt=Int32()\n",
    " \n",
    "def fnc_callback(msg):\n",
    "    global oldInt\n",
    "    oldInt = msg"
   ]
  },
  {
   "cell_type": "code",
   "execution_count": null,
   "metadata": {},
   "outputs": [],
   "source": [
    "if __name__=='__main__':\n",
    "    rospy.init_node('NODE_SUB_AND_PUB')\n",
    "   \n",
    "    sub=rospy.Subscriber('/old_int', Int32, fnc_callback)\n",
    "    pub=rospy.Publisher('/new_int', Int32, queue_size=1)\n",
    "    rate=rospy.Rate(1)\n",
    "    newInt = Int32()\n",
    "    \n",
    "    while not rospy.is_shutdown():\n",
    "        oldInt.data = oldInt.data + 1\n",
    "        if oldInt.data >= 10:\n",
    "            #ograniczenie wartosci do 10\n",
    "            newInt.data = 10\n",
    "        else:\n",
    "            newInt.data = oldInt.data\n",
    "        pub.publish(newInt) \n",
    "        rate.sleep()"
   ]
  },
  {
   "cell_type": "code",
   "execution_count": null,
   "metadata": {},
   "outputs": [],
   "source": []
  }
 ],
 "metadata": {
  "kernelspec": {
   "display_name": "Python 2",
   "language": "python",
   "name": "python2"
  },
  "language_info": {
   "codemirror_mode": {
    "name": "ipython",
    "version": 2
   },
   "file_extension": ".py",
   "mimetype": "text/x-python",
   "name": "python",
   "nbconvert_exporter": "python",
   "pygments_lexer": "ipython2",
   "version": "2.7.12"
  }
 },
 "nbformat": 4,
 "nbformat_minor": 2
}
