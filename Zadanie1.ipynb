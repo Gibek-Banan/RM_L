{
 "cells": [
  {
   "cell_type": "code",
   "execution_count": 1,
   "metadata": {},
   "outputs": [],
   "source": [
    "import rospy\n",
    "from geometry_msgs.msg import Twist"
   ]
  },
  {
   "cell_type": "code",
   "execution_count": 2,
   "metadata": {},
   "outputs": [],
   "source": [
    "def initNode():\n",
    "    rospy.init_node('control', anonymous=True)\n",
    "\n",
    "def talker():\n",
    "    # Deklaracja, ze node 'talker' bedzie publikowal wiadomosc \n",
    "    # na topicu 'chatter' typu String\n",
    "    pub = rospy.Publisher('turtle1/cmd_vel', Twist, queue_size=10)\n",
    "    \n",
    "    rate = rospy.Rate(1) # 0.5hz czestotliwosc z jaka publikowane sa wiadomosci\n",
    "    while not rospy.is_shutdown():\n",
    "        twist_msg = Twist()\n",
    "        twist_msg.linear.x = 5\n",
    "        twist_msg.angular.z = 2\n",
    "        pub.publish(twist_msg) #publikowanie wiadomosci\n",
    "        rate.sleep()\n",
    "    "
   ]
  },
  {
   "cell_type": "code",
   "execution_count": 3,
   "metadata": {},
   "outputs": [],
   "source": [
    "initNode()"
   ]
  },
  {
   "cell_type": "code",
   "execution_count": null,
   "metadata": {},
   "outputs": [],
   "source": [
    "talker()"
   ]
  },
  {
   "cell_type": "code",
   "execution_count": null,
   "metadata": {},
   "outputs": [],
   "source": []
  }
 ],
 "metadata": {
  "kernelspec": {
   "display_name": "Python 3",
   "language": "python",
   "name": "python3"
  },
  "language_info": {
   "codemirror_mode": {
    "name": "ipython",
    "version": 2
   },
   "file_extension": ".py",
   "mimetype": "text/x-python",
   "name": "python",
   "nbconvert_exporter": "python",
   "pygments_lexer": "ipython2",
   "version": "2.7.12"
  }
 },
 "nbformat": 4,
 "nbformat_minor": 2
}
