{
 "cells": [
  {
   "cell_type": "code",
   "execution_count": 1,
   "metadata": {
    "scrolled": true
   },
   "outputs": [],
   "source": [
    "#!/usr/bin/env python\n",
    "#jednoczesny publisher i subscriber\n",
    "#import bibliotek i wiadomości rosowych\n",
    "import rospy\n",
    "from std_msgs.msg import Int32\n",
    "from turtlesim.msg import Pose\n",
    "from geometry_msgs.msg import Twist"
   ]
  },
  {
   "cell_type": "code",
   "execution_count": 2,
   "metadata": {},
   "outputs": [],
   "source": [
    "global angVel\n",
    "global linVel\n",
    "\n",
    "angVel = 2\n",
    "linVel = 3"
   ]
  },
  {
   "cell_type": "code",
   "execution_count": 3,
   "metadata": {},
   "outputs": [],
   "source": [
    "oldInt=Int32()\n",
    " \n",
    "def fnc_callback(msg):\n",
    "    global pose\n",
    "    pose = msg"
   ]
  },
  {
   "cell_type": "code",
   "execution_count": null,
   "metadata": {},
   "outputs": [],
   "source": [
    "if __name__=='__main__':\n",
    "    rospy.init_node('NODE_SUB_AND_PUB')\n",
    "   \n",
    "    sub=rospy.Subscriber('/turtle1/pose', Pose, fnc_callback)\n",
    "    pub=rospy.Publisher('/turtle1/cmd_vel', Twist, queue_size=1)\n",
    "    rate=rospy.Rate(1)\n",
    "    pose = Pose()\n",
    "    newTwist = Twist()\n",
    "    \n",
    "    while not rospy.is_shutdown():\n",
    "        newTwist.linear.x = linVel\n",
    "        if(pose.x >= 4 and pose.x <= 6):\n",
    "            newTwist.angular.z = angVel/2\n",
    "        else:\n",
    "            newTwist.angular.z = angVel\n",
    "        \n",
    "        pub.publish(newTwist) \n",
    "        rate.sleep()"
   ]
  },
  {
   "cell_type": "code",
   "execution_count": null,
   "metadata": {},
   "outputs": [],
   "source": []
  }
 ],
 "metadata": {
  "kernelspec": {
   "display_name": "Python 2",
   "language": "python",
   "name": "python2"
  },
  "language_info": {
   "codemirror_mode": {
    "name": "ipython",
    "version": 2
   },
   "file_extension": ".py",
   "mimetype": "text/x-python",
   "name": "python",
   "nbconvert_exporter": "python",
   "pygments_lexer": "ipython2",
   "version": "2.7.12"
  }
 },
 "nbformat": 4,
 "nbformat_minor": 2
}
